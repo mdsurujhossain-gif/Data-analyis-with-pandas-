{
 "cells": [
  {
   "cell_type": "code",
   "execution_count": 2,
   "metadata": {},
   "outputs": [],
   "source": [
    "import pandas\r\n",
    "from datetime import datetime\r\n",
    "from pytz import utc\r\n",
    "data = pandas.read_csv('reviews.csv',parse_dates=['Timestamp'])\r\n"
   ]
  },
  {
   "cell_type": "code",
   "execution_count": 3,
   "metadata": {},
   "outputs": [
    {
     "data": {
      "text/html": "<div>\n<style scoped>\n    .dataframe tbody tr th:only-of-type {\n        vertical-align: middle;\n    }\n\n    .dataframe tbody tr th {\n        vertical-align: top;\n    }\n\n    .dataframe thead th {\n        text-align: right;\n    }\n</style>\n<table border=\"1\" class=\"dataframe\">\n  <thead>\n    <tr style=\"text-align: right;\">\n      <th></th>\n      <th>Course Name</th>\n      <th>Timestamp</th>\n      <th>Rating</th>\n      <th>Comment</th>\n    </tr>\n  </thead>\n  <tbody>\n    <tr>\n      <th>0</th>\n      <td>The Python Mega Course: Build 10 Real World Ap...</td>\n      <td>2021-04-02 06:25:52+00:00</td>\n      <td>4.0</td>\n      <td>NaN</td>\n    </tr>\n    <tr>\n      <th>1</th>\n      <td>The Python Mega Course: Build 10 Real World Ap...</td>\n      <td>2021-04-02 05:12:34+00:00</td>\n      <td>4.0</td>\n      <td>NaN</td>\n    </tr>\n    <tr>\n      <th>2</th>\n      <td>The Python Mega Course: Build 10 Real World Ap...</td>\n      <td>2021-04-02 05:11:03+00:00</td>\n      <td>4.0</td>\n      <td>NaN</td>\n    </tr>\n    <tr>\n      <th>3</th>\n      <td>The Python Mega Course: Build 10 Real World Ap...</td>\n      <td>2021-04-02 03:33:24+00:00</td>\n      <td>5.0</td>\n      <td>NaN</td>\n    </tr>\n    <tr>\n      <th>4</th>\n      <td>The Python Mega Course: Build 10 Real World Ap...</td>\n      <td>2021-04-02 03:31:49+00:00</td>\n      <td>4.5</td>\n      <td>NaN</td>\n    </tr>\n    <tr>\n      <th>...</th>\n      <td>...</td>\n      <td>...</td>\n      <td>...</td>\n      <td>...</td>\n    </tr>\n    <tr>\n      <th>44995</th>\n      <td>Python for Beginners with Examples</td>\n      <td>2018-01-01 01:11:26+00:00</td>\n      <td>4.0</td>\n      <td>NaN</td>\n    </tr>\n    <tr>\n      <th>44996</th>\n      <td>The Python Mega Course: Build 10 Real World Ap...</td>\n      <td>2018-01-01 01:09:56+00:00</td>\n      <td>5.0</td>\n      <td>NaN</td>\n    </tr>\n    <tr>\n      <th>44997</th>\n      <td>The Python Mega Course: Build 10 Real World Ap...</td>\n      <td>2018-01-01 01:08:11+00:00</td>\n      <td>5.0</td>\n      <td>NaN</td>\n    </tr>\n    <tr>\n      <th>44998</th>\n      <td>Python for Beginners with Examples</td>\n      <td>2018-01-01 01:05:26+00:00</td>\n      <td>5.0</td>\n      <td>NaN</td>\n    </tr>\n    <tr>\n      <th>44999</th>\n      <td>The Python Mega Course: Build 10 Real World Ap...</td>\n      <td>2018-01-01 01:01:16+00:00</td>\n      <td>5.0</td>\n      <td>NaN</td>\n    </tr>\n  </tbody>\n</table>\n<p>45000 rows × 4 columns</p>\n</div>",
      "text/plain": "                                             Course Name  \\\n0      The Python Mega Course: Build 10 Real World Ap...   \n1      The Python Mega Course: Build 10 Real World Ap...   \n2      The Python Mega Course: Build 10 Real World Ap...   \n3      The Python Mega Course: Build 10 Real World Ap...   \n4      The Python Mega Course: Build 10 Real World Ap...   \n...                                                  ...   \n44995                 Python for Beginners with Examples   \n44996  The Python Mega Course: Build 10 Real World Ap...   \n44997  The Python Mega Course: Build 10 Real World Ap...   \n44998                 Python for Beginners with Examples   \n44999  The Python Mega Course: Build 10 Real World Ap...   \n\n                      Timestamp  Rating Comment  \n0     2021-04-02 06:25:52+00:00     4.0     NaN  \n1     2021-04-02 05:12:34+00:00     4.0     NaN  \n2     2021-04-02 05:11:03+00:00     4.0     NaN  \n3     2021-04-02 03:33:24+00:00     5.0     NaN  \n4     2021-04-02 03:31:49+00:00     4.5     NaN  \n...                         ...     ...     ...  \n44995 2018-01-01 01:11:26+00:00     4.0     NaN  \n44996 2018-01-01 01:09:56+00:00     5.0     NaN  \n44997 2018-01-01 01:08:11+00:00     5.0     NaN  \n44998 2018-01-01 01:05:26+00:00     5.0     NaN  \n44999 2018-01-01 01:01:16+00:00     5.0     NaN  \n\n[45000 rows x 4 columns]"
     },
     "execution_count": 3,
     "metadata": {},
     "output_type": "execute_result"
    }
   ],
   "source": [
    "data"
   ]
  },
  {
   "cell_type": "code",
   "execution_count": 4,
   "metadata": {},
   "outputs": [],
   "source": [
    "data['Month'] = data['Timestamp'].dt.strftime('%Y-%m')"
   ]
  },
  {
   "cell_type": "code",
   "execution_count": 5,
   "metadata": {},
   "outputs": [
    {
     "data": {
      "text/html": "<div>\n<style scoped>\n    .dataframe tbody tr th:only-of-type {\n        vertical-align: middle;\n    }\n\n    .dataframe tbody tr th {\n        vertical-align: top;\n    }\n\n    .dataframe thead th {\n        text-align: right;\n    }\n</style>\n<table border=\"1\" class=\"dataframe\">\n  <thead>\n    <tr style=\"text-align: right;\">\n      <th></th>\n      <th>Course Name</th>\n      <th>Timestamp</th>\n      <th>Rating</th>\n      <th>Comment</th>\n      <th>Month</th>\n    </tr>\n  </thead>\n  <tbody>\n    <tr>\n      <th>0</th>\n      <td>The Python Mega Course: Build 10 Real World Ap...</td>\n      <td>2021-04-02 06:25:52+00:00</td>\n      <td>4.0</td>\n      <td>NaN</td>\n      <td>2021-04</td>\n    </tr>\n    <tr>\n      <th>1</th>\n      <td>The Python Mega Course: Build 10 Real World Ap...</td>\n      <td>2021-04-02 05:12:34+00:00</td>\n      <td>4.0</td>\n      <td>NaN</td>\n      <td>2021-04</td>\n    </tr>\n    <tr>\n      <th>2</th>\n      <td>The Python Mega Course: Build 10 Real World Ap...</td>\n      <td>2021-04-02 05:11:03+00:00</td>\n      <td>4.0</td>\n      <td>NaN</td>\n      <td>2021-04</td>\n    </tr>\n    <tr>\n      <th>3</th>\n      <td>The Python Mega Course: Build 10 Real World Ap...</td>\n      <td>2021-04-02 03:33:24+00:00</td>\n      <td>5.0</td>\n      <td>NaN</td>\n      <td>2021-04</td>\n    </tr>\n    <tr>\n      <th>4</th>\n      <td>The Python Mega Course: Build 10 Real World Ap...</td>\n      <td>2021-04-02 03:31:49+00:00</td>\n      <td>4.5</td>\n      <td>NaN</td>\n      <td>2021-04</td>\n    </tr>\n    <tr>\n      <th>...</th>\n      <td>...</td>\n      <td>...</td>\n      <td>...</td>\n      <td>...</td>\n      <td>...</td>\n    </tr>\n    <tr>\n      <th>44995</th>\n      <td>Python for Beginners with Examples</td>\n      <td>2018-01-01 01:11:26+00:00</td>\n      <td>4.0</td>\n      <td>NaN</td>\n      <td>2018-01</td>\n    </tr>\n    <tr>\n      <th>44996</th>\n      <td>The Python Mega Course: Build 10 Real World Ap...</td>\n      <td>2018-01-01 01:09:56+00:00</td>\n      <td>5.0</td>\n      <td>NaN</td>\n      <td>2018-01</td>\n    </tr>\n    <tr>\n      <th>44997</th>\n      <td>The Python Mega Course: Build 10 Real World Ap...</td>\n      <td>2018-01-01 01:08:11+00:00</td>\n      <td>5.0</td>\n      <td>NaN</td>\n      <td>2018-01</td>\n    </tr>\n    <tr>\n      <th>44998</th>\n      <td>Python for Beginners with Examples</td>\n      <td>2018-01-01 01:05:26+00:00</td>\n      <td>5.0</td>\n      <td>NaN</td>\n      <td>2018-01</td>\n    </tr>\n    <tr>\n      <th>44999</th>\n      <td>The Python Mega Course: Build 10 Real World Ap...</td>\n      <td>2018-01-01 01:01:16+00:00</td>\n      <td>5.0</td>\n      <td>NaN</td>\n      <td>2018-01</td>\n    </tr>\n  </tbody>\n</table>\n<p>45000 rows × 5 columns</p>\n</div>",
      "text/plain": "                                             Course Name  \\\n0      The Python Mega Course: Build 10 Real World Ap...   \n1      The Python Mega Course: Build 10 Real World Ap...   \n2      The Python Mega Course: Build 10 Real World Ap...   \n3      The Python Mega Course: Build 10 Real World Ap...   \n4      The Python Mega Course: Build 10 Real World Ap...   \n...                                                  ...   \n44995                 Python for Beginners with Examples   \n44996  The Python Mega Course: Build 10 Real World Ap...   \n44997  The Python Mega Course: Build 10 Real World Ap...   \n44998                 Python for Beginners with Examples   \n44999  The Python Mega Course: Build 10 Real World Ap...   \n\n                      Timestamp  Rating Comment    Month  \n0     2021-04-02 06:25:52+00:00     4.0     NaN  2021-04  \n1     2021-04-02 05:12:34+00:00     4.0     NaN  2021-04  \n2     2021-04-02 05:11:03+00:00     4.0     NaN  2021-04  \n3     2021-04-02 03:33:24+00:00     5.0     NaN  2021-04  \n4     2021-04-02 03:31:49+00:00     4.5     NaN  2021-04  \n...                         ...     ...     ...      ...  \n44995 2018-01-01 01:11:26+00:00     4.0     NaN  2018-01  \n44996 2018-01-01 01:09:56+00:00     5.0     NaN  2018-01  \n44997 2018-01-01 01:08:11+00:00     5.0     NaN  2018-01  \n44998 2018-01-01 01:05:26+00:00     5.0     NaN  2018-01  \n44999 2018-01-01 01:01:16+00:00     5.0     NaN  2018-01  \n\n[45000 rows x 5 columns]"
     },
     "execution_count": 5,
     "metadata": {},
     "output_type": "execute_result"
    }
   ],
   "source": [
    "data"
   ]
  },
  {
   "cell_type": "code",
   "execution_count": 7,
   "metadata": {},
   "outputs": [],
   "source": [
    "monthly_average = data.groupby(['Month']).mean()"
   ]
  },
  {
   "cell_type": "code",
   "execution_count": 8,
   "metadata": {},
   "outputs": [
    {
     "data": {
      "text/html": "<div>\n<style scoped>\n    .dataframe tbody tr th:only-of-type {\n        vertical-align: middle;\n    }\n\n    .dataframe tbody tr th {\n        vertical-align: top;\n    }\n\n    .dataframe thead th {\n        text-align: right;\n    }\n</style>\n<table border=\"1\" class=\"dataframe\">\n  <thead>\n    <tr style=\"text-align: right;\">\n      <th></th>\n      <th>Rating</th>\n    </tr>\n    <tr>\n      <th>Month</th>\n      <th></th>\n    </tr>\n  </thead>\n  <tbody>\n    <tr>\n      <th>2018-01</th>\n      <td>4.429645</td>\n    </tr>\n    <tr>\n      <th>2018-02</th>\n      <td>4.436248</td>\n    </tr>\n    <tr>\n      <th>2018-03</th>\n      <td>4.421671</td>\n    </tr>\n    <tr>\n      <th>2018-04</th>\n      <td>4.468211</td>\n    </tr>\n    <tr>\n      <th>2018-05</th>\n      <td>4.396420</td>\n    </tr>\n    <tr>\n      <th>2018-06</th>\n      <td>4.375379</td>\n    </tr>\n    <tr>\n      <th>2018-07</th>\n      <td>4.393184</td>\n    </tr>\n    <tr>\n      <th>2018-08</th>\n      <td>4.344753</td>\n    </tr>\n    <tr>\n      <th>2018-09</th>\n      <td>4.347247</td>\n    </tr>\n    <tr>\n      <th>2018-10</th>\n      <td>4.374429</td>\n    </tr>\n    <tr>\n      <th>2018-11</th>\n      <td>4.386817</td>\n    </tr>\n    <tr>\n      <th>2018-12</th>\n      <td>4.342105</td>\n    </tr>\n    <tr>\n      <th>2019-01</th>\n      <td>4.401920</td>\n    </tr>\n    <tr>\n      <th>2019-02</th>\n      <td>4.346964</td>\n    </tr>\n    <tr>\n      <th>2019-03</th>\n      <td>4.333145</td>\n    </tr>\n    <tr>\n      <th>2019-04</th>\n      <td>4.420049</td>\n    </tr>\n    <tr>\n      <th>2019-05</th>\n      <td>4.405569</td>\n    </tr>\n    <tr>\n      <th>2019-06</th>\n      <td>4.398559</td>\n    </tr>\n    <tr>\n      <th>2019-07</th>\n      <td>4.382353</td>\n    </tr>\n    <tr>\n      <th>2019-08</th>\n      <td>4.417059</td>\n    </tr>\n    <tr>\n      <th>2019-09</th>\n      <td>4.451135</td>\n    </tr>\n    <tr>\n      <th>2019-10</th>\n      <td>4.483871</td>\n    </tr>\n    <tr>\n      <th>2019-11</th>\n      <td>4.493260</td>\n    </tr>\n    <tr>\n      <th>2019-12</th>\n      <td>4.471046</td>\n    </tr>\n    <tr>\n      <th>2020-01</th>\n      <td>4.439615</td>\n    </tr>\n    <tr>\n      <th>2020-02</th>\n      <td>4.428642</td>\n    </tr>\n    <tr>\n      <th>2020-03</th>\n      <td>4.480690</td>\n    </tr>\n    <tr>\n      <th>2020-04</th>\n      <td>4.475220</td>\n    </tr>\n    <tr>\n      <th>2020-05</th>\n      <td>4.448082</td>\n    </tr>\n    <tr>\n      <th>2020-06</th>\n      <td>4.482812</td>\n    </tr>\n    <tr>\n      <th>2020-07</th>\n      <td>4.517508</td>\n    </tr>\n    <tr>\n      <th>2020-08</th>\n      <td>4.470987</td>\n    </tr>\n    <tr>\n      <th>2020-09</th>\n      <td>4.485862</td>\n    </tr>\n    <tr>\n      <th>2020-10</th>\n      <td>4.515201</td>\n    </tr>\n    <tr>\n      <th>2020-11</th>\n      <td>4.479306</td>\n    </tr>\n    <tr>\n      <th>2020-12</th>\n      <td>4.528358</td>\n    </tr>\n    <tr>\n      <th>2021-01</th>\n      <td>4.551325</td>\n    </tr>\n    <tr>\n      <th>2021-02</th>\n      <td>4.567901</td>\n    </tr>\n    <tr>\n      <th>2021-03</th>\n      <td>4.589207</td>\n    </tr>\n    <tr>\n      <th>2021-04</th>\n      <td>4.544118</td>\n    </tr>\n  </tbody>\n</table>\n</div>",
      "text/plain": "           Rating\nMonth            \n2018-01  4.429645\n2018-02  4.436248\n2018-03  4.421671\n2018-04  4.468211\n2018-05  4.396420\n2018-06  4.375379\n2018-07  4.393184\n2018-08  4.344753\n2018-09  4.347247\n2018-10  4.374429\n2018-11  4.386817\n2018-12  4.342105\n2019-01  4.401920\n2019-02  4.346964\n2019-03  4.333145\n2019-04  4.420049\n2019-05  4.405569\n2019-06  4.398559\n2019-07  4.382353\n2019-08  4.417059\n2019-09  4.451135\n2019-10  4.483871\n2019-11  4.493260\n2019-12  4.471046\n2020-01  4.439615\n2020-02  4.428642\n2020-03  4.480690\n2020-04  4.475220\n2020-05  4.448082\n2020-06  4.482812\n2020-07  4.517508\n2020-08  4.470987\n2020-09  4.485862\n2020-10  4.515201\n2020-11  4.479306\n2020-12  4.528358\n2021-01  4.551325\n2021-02  4.567901\n2021-03  4.589207\n2021-04  4.544118"
     },
     "execution_count": 8,
     "metadata": {},
     "output_type": "execute_result"
    }
   ],
   "source": [
    "data_average_by_month"
   ]
  },
  {
   "cell_type": "code",
   "execution_count": null,
   "metadata": {},
   "outputs": [],
   "source": []
  }
 ],
 "metadata": {
  "kernelspec": {
   "display_name": "Python 3.9.0 64-bit",
   "name": "python390jvsc74a57bd028c04850d92c4168e085c37c64d6f046c44694fa4a3c34a7444beaacc85f3878"
  },
  "language_info": {
   "codemirror_mode": {
    "name": "ipython",
    "version": 3
   },
   "file_extension": ".py",
   "mimetype": "text/x-python",
   "name": "python",
   "nbconvert_exporter": "python",
   "pygments_lexer": "ipython3",
   "version": "3.9.0"
  },
  "orig_nbformat": 2
 },
 "nbformat": 4,
 "nbformat_minor": 2
}