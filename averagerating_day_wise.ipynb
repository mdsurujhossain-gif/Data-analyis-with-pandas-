{
 "cells": [
  {
   "cell_type": "raw",
   "metadata": {},
   "source": []
  },
  {
   "cell_type": "code",
   "execution_count": 1,
   "metadata": {},
   "outputs": [
    {
     "name": "stdout",
     "output_type": "stream",
     "text": [
      " i ma a new coder\n"
     ]
    }
   ],
   "source": [
    "print(\" i ma a new coder\")"
   ]
  },
  {
   "cell_type": "code",
   "execution_count": 2,
   "metadata": {},
   "outputs": [],
   "source": [
    "import pandas\r\n",
    "from pytz import utc\r\n",
    "from datetime import datetime\r\n",
    "data = pandas.read_csv('reviews.csv',parse_dates=['Timestamp'])\r\n"
   ]
  },
  {
   "cell_type": "code",
   "execution_count": 3,
   "metadata": {},
   "outputs": [
    {
     "data": {
      "text/html": "<div>\n<style scoped>\n    .dataframe tbody tr th:only-of-type {\n        vertical-align: middle;\n    }\n\n    .dataframe tbody tr th {\n        vertical-align: top;\n    }\n\n    .dataframe thead th {\n        text-align: right;\n    }\n</style>\n<table border=\"1\" class=\"dataframe\">\n  <thead>\n    <tr style=\"text-align: right;\">\n      <th></th>\n      <th>Course Name</th>\n      <th>Timestamp</th>\n      <th>Rating</th>\n      <th>Comment</th>\n    </tr>\n  </thead>\n  <tbody>\n    <tr>\n      <th>0</th>\n      <td>The Python Mega Course: Build 10 Real World Ap...</td>\n      <td>2021-04-02 06:25:52+00:00</td>\n      <td>4.0</td>\n      <td>NaN</td>\n    </tr>\n    <tr>\n      <th>1</th>\n      <td>The Python Mega Course: Build 10 Real World Ap...</td>\n      <td>2021-04-02 05:12:34+00:00</td>\n      <td>4.0</td>\n      <td>NaN</td>\n    </tr>\n    <tr>\n      <th>2</th>\n      <td>The Python Mega Course: Build 10 Real World Ap...</td>\n      <td>2021-04-02 05:11:03+00:00</td>\n      <td>4.0</td>\n      <td>NaN</td>\n    </tr>\n    <tr>\n      <th>3</th>\n      <td>The Python Mega Course: Build 10 Real World Ap...</td>\n      <td>2021-04-02 03:33:24+00:00</td>\n      <td>5.0</td>\n      <td>NaN</td>\n    </tr>\n    <tr>\n      <th>4</th>\n      <td>The Python Mega Course: Build 10 Real World Ap...</td>\n      <td>2021-04-02 03:31:49+00:00</td>\n      <td>4.5</td>\n      <td>NaN</td>\n    </tr>\n    <tr>\n      <th>...</th>\n      <td>...</td>\n      <td>...</td>\n      <td>...</td>\n      <td>...</td>\n    </tr>\n    <tr>\n      <th>44995</th>\n      <td>Python for Beginners with Examples</td>\n      <td>2018-01-01 01:11:26+00:00</td>\n      <td>4.0</td>\n      <td>NaN</td>\n    </tr>\n    <tr>\n      <th>44996</th>\n      <td>The Python Mega Course: Build 10 Real World Ap...</td>\n      <td>2018-01-01 01:09:56+00:00</td>\n      <td>5.0</td>\n      <td>NaN</td>\n    </tr>\n    <tr>\n      <th>44997</th>\n      <td>The Python Mega Course: Build 10 Real World Ap...</td>\n      <td>2018-01-01 01:08:11+00:00</td>\n      <td>5.0</td>\n      <td>NaN</td>\n    </tr>\n    <tr>\n      <th>44998</th>\n      <td>Python for Beginners with Examples</td>\n      <td>2018-01-01 01:05:26+00:00</td>\n      <td>5.0</td>\n      <td>NaN</td>\n    </tr>\n    <tr>\n      <th>44999</th>\n      <td>The Python Mega Course: Build 10 Real World Ap...</td>\n      <td>2018-01-01 01:01:16+00:00</td>\n      <td>5.0</td>\n      <td>NaN</td>\n    </tr>\n  </tbody>\n</table>\n<p>45000 rows × 4 columns</p>\n</div>",
      "text/plain": "                                             Course Name  \\\n0      The Python Mega Course: Build 10 Real World Ap...   \n1      The Python Mega Course: Build 10 Real World Ap...   \n2      The Python Mega Course: Build 10 Real World Ap...   \n3      The Python Mega Course: Build 10 Real World Ap...   \n4      The Python Mega Course: Build 10 Real World Ap...   \n...                                                  ...   \n44995                 Python for Beginners with Examples   \n44996  The Python Mega Course: Build 10 Real World Ap...   \n44997  The Python Mega Course: Build 10 Real World Ap...   \n44998                 Python for Beginners with Examples   \n44999  The Python Mega Course: Build 10 Real World Ap...   \n\n                      Timestamp  Rating Comment  \n0     2021-04-02 06:25:52+00:00     4.0     NaN  \n1     2021-04-02 05:12:34+00:00     4.0     NaN  \n2     2021-04-02 05:11:03+00:00     4.0     NaN  \n3     2021-04-02 03:33:24+00:00     5.0     NaN  \n4     2021-04-02 03:31:49+00:00     4.5     NaN  \n...                         ...     ...     ...  \n44995 2018-01-01 01:11:26+00:00     4.0     NaN  \n44996 2018-01-01 01:09:56+00:00     5.0     NaN  \n44997 2018-01-01 01:08:11+00:00     5.0     NaN  \n44998 2018-01-01 01:05:26+00:00     5.0     NaN  \n44999 2018-01-01 01:01:16+00:00     5.0     NaN  \n\n[45000 rows x 4 columns]"
     },
     "execution_count": 3,
     "metadata": {},
     "output_type": "execute_result"
    }
   ],
   "source": [
    "data"
   ]
  },
  {
   "cell_type": "code",
   "execution_count": 4,
   "metadata": {},
   "outputs": [],
   "source": [
    "data['Day'] = data['Timestamp'].dt.date"
   ]
  },
  {
   "cell_type": "code",
   "execution_count": 5,
   "metadata": {},
   "outputs": [
    {
     "data": {
      "text/html": "<div>\n<style scoped>\n    .dataframe tbody tr th:only-of-type {\n        vertical-align: middle;\n    }\n\n    .dataframe tbody tr th {\n        vertical-align: top;\n    }\n\n    .dataframe thead th {\n        text-align: right;\n    }\n</style>\n<table border=\"1\" class=\"dataframe\">\n  <thead>\n    <tr style=\"text-align: right;\">\n      <th></th>\n      <th>Course Name</th>\n      <th>Timestamp</th>\n      <th>Rating</th>\n      <th>Comment</th>\n      <th>Day</th>\n    </tr>\n  </thead>\n  <tbody>\n    <tr>\n      <th>0</th>\n      <td>The Python Mega Course: Build 10 Real World Ap...</td>\n      <td>2021-04-02 06:25:52+00:00</td>\n      <td>4.0</td>\n      <td>NaN</td>\n      <td>2021-04-02</td>\n    </tr>\n    <tr>\n      <th>1</th>\n      <td>The Python Mega Course: Build 10 Real World Ap...</td>\n      <td>2021-04-02 05:12:34+00:00</td>\n      <td>4.0</td>\n      <td>NaN</td>\n      <td>2021-04-02</td>\n    </tr>\n    <tr>\n      <th>2</th>\n      <td>The Python Mega Course: Build 10 Real World Ap...</td>\n      <td>2021-04-02 05:11:03+00:00</td>\n      <td>4.0</td>\n      <td>NaN</td>\n      <td>2021-04-02</td>\n    </tr>\n    <tr>\n      <th>3</th>\n      <td>The Python Mega Course: Build 10 Real World Ap...</td>\n      <td>2021-04-02 03:33:24+00:00</td>\n      <td>5.0</td>\n      <td>NaN</td>\n      <td>2021-04-02</td>\n    </tr>\n    <tr>\n      <th>4</th>\n      <td>The Python Mega Course: Build 10 Real World Ap...</td>\n      <td>2021-04-02 03:31:49+00:00</td>\n      <td>4.5</td>\n      <td>NaN</td>\n      <td>2021-04-02</td>\n    </tr>\n    <tr>\n      <th>...</th>\n      <td>...</td>\n      <td>...</td>\n      <td>...</td>\n      <td>...</td>\n      <td>...</td>\n    </tr>\n    <tr>\n      <th>44995</th>\n      <td>Python for Beginners with Examples</td>\n      <td>2018-01-01 01:11:26+00:00</td>\n      <td>4.0</td>\n      <td>NaN</td>\n      <td>2018-01-01</td>\n    </tr>\n    <tr>\n      <th>44996</th>\n      <td>The Python Mega Course: Build 10 Real World Ap...</td>\n      <td>2018-01-01 01:09:56+00:00</td>\n      <td>5.0</td>\n      <td>NaN</td>\n      <td>2018-01-01</td>\n    </tr>\n    <tr>\n      <th>44997</th>\n      <td>The Python Mega Course: Build 10 Real World Ap...</td>\n      <td>2018-01-01 01:08:11+00:00</td>\n      <td>5.0</td>\n      <td>NaN</td>\n      <td>2018-01-01</td>\n    </tr>\n    <tr>\n      <th>44998</th>\n      <td>Python for Beginners with Examples</td>\n      <td>2018-01-01 01:05:26+00:00</td>\n      <td>5.0</td>\n      <td>NaN</td>\n      <td>2018-01-01</td>\n    </tr>\n    <tr>\n      <th>44999</th>\n      <td>The Python Mega Course: Build 10 Real World Ap...</td>\n      <td>2018-01-01 01:01:16+00:00</td>\n      <td>5.0</td>\n      <td>NaN</td>\n      <td>2018-01-01</td>\n    </tr>\n  </tbody>\n</table>\n<p>45000 rows × 5 columns</p>\n</div>",
      "text/plain": "                                             Course Name  \\\n0      The Python Mega Course: Build 10 Real World Ap...   \n1      The Python Mega Course: Build 10 Real World Ap...   \n2      The Python Mega Course: Build 10 Real World Ap...   \n3      The Python Mega Course: Build 10 Real World Ap...   \n4      The Python Mega Course: Build 10 Real World Ap...   \n...                                                  ...   \n44995                 Python for Beginners with Examples   \n44996  The Python Mega Course: Build 10 Real World Ap...   \n44997  The Python Mega Course: Build 10 Real World Ap...   \n44998                 Python for Beginners with Examples   \n44999  The Python Mega Course: Build 10 Real World Ap...   \n\n                      Timestamp  Rating Comment         Day  \n0     2021-04-02 06:25:52+00:00     4.0     NaN  2021-04-02  \n1     2021-04-02 05:12:34+00:00     4.0     NaN  2021-04-02  \n2     2021-04-02 05:11:03+00:00     4.0     NaN  2021-04-02  \n3     2021-04-02 03:33:24+00:00     5.0     NaN  2021-04-02  \n4     2021-04-02 03:31:49+00:00     4.5     NaN  2021-04-02  \n...                         ...     ...     ...         ...  \n44995 2018-01-01 01:11:26+00:00     4.0     NaN  2018-01-01  \n44996 2018-01-01 01:09:56+00:00     5.0     NaN  2018-01-01  \n44997 2018-01-01 01:08:11+00:00     5.0     NaN  2018-01-01  \n44998 2018-01-01 01:05:26+00:00     5.0     NaN  2018-01-01  \n44999 2018-01-01 01:01:16+00:00     5.0     NaN  2018-01-01  \n\n[45000 rows x 5 columns]"
     },
     "execution_count": 5,
     "metadata": {},
     "output_type": "execute_result"
    }
   ],
   "source": [
    "data"
   ]
  },
  {
   "cell_type": "code",
   "execution_count": 6,
   "metadata": {},
   "outputs": [],
   "source": [
    "data_average = data.groupby(['Day']).mean()"
   ]
  },
  {
   "cell_type": "code",
   "execution_count": 7,
   "metadata": {},
   "outputs": [
    {
     "data": {
      "text/html": "<div>\n<style scoped>\n    .dataframe tbody tr th:only-of-type {\n        vertical-align: middle;\n    }\n\n    .dataframe tbody tr th {\n        vertical-align: top;\n    }\n\n    .dataframe thead th {\n        text-align: right;\n    }\n</style>\n<table border=\"1\" class=\"dataframe\">\n  <thead>\n    <tr style=\"text-align: right;\">\n      <th></th>\n      <th>Rating</th>\n    </tr>\n    <tr>\n      <th>Day</th>\n      <th></th>\n    </tr>\n  </thead>\n  <tbody>\n    <tr>\n      <th>2018-01-01</th>\n      <td>4.532609</td>\n    </tr>\n    <tr>\n      <th>2018-01-02</th>\n      <td>4.122807</td>\n    </tr>\n    <tr>\n      <th>2018-01-03</th>\n      <td>4.360465</td>\n    </tr>\n    <tr>\n      <th>2018-01-04</th>\n      <td>4.531250</td>\n    </tr>\n    <tr>\n      <th>2018-01-05</th>\n      <td>4.423077</td>\n    </tr>\n    <tr>\n      <th>...</th>\n      <td>...</td>\n    </tr>\n    <tr>\n      <th>2021-03-29</th>\n      <td>4.240000</td>\n    </tr>\n    <tr>\n      <th>2021-03-30</th>\n      <td>4.428571</td>\n    </tr>\n    <tr>\n      <th>2021-03-31</th>\n      <td>4.453125</td>\n    </tr>\n    <tr>\n      <th>2021-04-01</th>\n      <td>4.592593</td>\n    </tr>\n    <tr>\n      <th>2021-04-02</th>\n      <td>4.357143</td>\n    </tr>\n  </tbody>\n</table>\n<p>1188 rows × 1 columns</p>\n</div>",
      "text/plain": "              Rating\nDay                 \n2018-01-01  4.532609\n2018-01-02  4.122807\n2018-01-03  4.360465\n2018-01-04  4.531250\n2018-01-05  4.423077\n...              ...\n2021-03-29  4.240000\n2021-03-30  4.428571\n2021-03-31  4.453125\n2021-04-01  4.592593\n2021-04-02  4.357143\n\n[1188 rows x 1 columns]"
     },
     "execution_count": 7,
     "metadata": {},
     "output_type": "execute_result"
    }
   ],
   "source": [
    "data_average"
   ]
  }
 ],
 "metadata": {
  "kernelspec": {
   "display_name": "Python 3.9.0 64-bit",
   "name": "python390jvsc74a57bd028c04850d92c4168e085c37c64d6f046c44694fa4a3c34a7444beaacc85f3878"
  },
  "language_info": {
   "codemirror_mode": {
    "name": "ipython",
    "version": 3
   },
   "file_extension": ".py",
   "mimetype": "text/x-python",
   "name": "python",
   "nbconvert_exporter": "python",
   "pygments_lexer": "ipython3",
   "version": "3.9.0"
  },
  "orig_nbformat": 2
 },
 "nbformat": 4,
 "nbformat_minor": 2
}